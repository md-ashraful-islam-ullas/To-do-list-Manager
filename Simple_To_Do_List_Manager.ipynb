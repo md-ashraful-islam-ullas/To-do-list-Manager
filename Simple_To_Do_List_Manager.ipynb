{
  "nbformat": 4,
  "nbformat_minor": 0,
  "metadata": {
    "colab": {
      "provenance": [],
      "gpuType": "V28"
    },
    "kernelspec": {
      "name": "python3",
      "display_name": "Python 3"
    },
    "accelerator": "TPU"
  },
  "cells": [
    {
      "cell_type": "code",
      "source": [
        "tasks = []\n",
        "\n",
        "def add_task():\n",
        "  task = input(\"Enter the task: \")\n",
        "  tasks.append(task)\n",
        "  print(f\"'{task}' has been added to your to-do list!\")\n",
        "\n",
        "def view_task():\n",
        "  if len(tasks) == 0:\n",
        "    print(\"Your to-do list is empty.\")\n",
        "  else:\n",
        "    print(\"/nYour to-do list:\")\n",
        "    for i in range(len(tasks)):\n",
        "      print(f\"{i+1}. {tasks[i]}\")\n",
        "\n",
        "def remove_task():\n",
        "    view_task()\n",
        "    if len(tasks) == 0:\n",
        "        return\n",
        "    task_num = input(\"Enter the task number to remove: \")\n",
        "    task_num = int(task_num) - 1\n",
        "    if 0 <= task_num < len(tasks):\n",
        "        removed = tasks.pop(task_num)\n",
        "        print(f\"'{removed}' has been removed!\")\n",
        "    else:\n",
        "        print(\"Invalid number or out of range!\")\n",
        "\n",
        "\n",
        "while True:\n",
        "  print(\"To-Do List Manager\")\n",
        "  print(\"1. Add Task\")\n",
        "  print(\"2. View Task\")\n",
        "  print(\"3. Remove Task\")\n",
        "  print(\"4. Exit\")\n",
        "\n",
        "  user = input(\"Enter your choice (1-4): \")\n",
        "\n",
        "  if user == \"1\":\n",
        "    add_task()\n",
        "  elif user == \"2\":\n",
        "    view_task()\n",
        "  elif user == \"3\":\n",
        "    remove_task()\n",
        "  elif user == \"4\":\n",
        "    print(\"Good Bye!\")\n",
        "    break"
      ],
      "metadata": {
        "id": "nHLJ1fxINn-4",
        "colab": {
          "base_uri": "https://localhost:8080/"
        },
        "outputId": "59dda6e1-06ef-40db-9c0f-d0cec1787197"
      },
      "execution_count": 4,
      "outputs": [
        {
          "output_type": "stream",
          "name": "stdout",
          "text": [
            "To-Do List Manager\n",
            "1. Add Task\n",
            "2. View Task\n",
            "3. Remove Task\n",
            "4. Exit\n",
            "Enter your choice (1-4): 1\n",
            "Enter the task: Buy groceries\n",
            "'Buy groceries' has been added to your to-do list!\n",
            "To-Do List Manager\n",
            "1. Add Task\n",
            "2. View Task\n",
            "3. Remove Task\n",
            "4. Exit\n",
            "Enter your choice (1-4): 1\n",
            "Enter the task: Walk dog\n",
            "'Walk dog' has been added to your to-do list!\n",
            "To-Do List Manager\n",
            "1. Add Task\n",
            "2. View Task\n",
            "3. Remove Task\n",
            "4. Exit\n",
            "Enter your choice (1-4): 1\n",
            "Enter the task: Read book\n",
            "'Read book' has been added to your to-do list!\n",
            "To-Do List Manager\n",
            "1. Add Task\n",
            "2. View Task\n",
            "3. Remove Task\n",
            "4. Exit\n",
            "Enter your choice (1-4): 2\n",
            "/nYour to-do list:\n",
            "1. Buy groceries\n",
            "2. Walk dog\n",
            "3. Read book\n",
            "To-Do List Manager\n",
            "1. Add Task\n",
            "2. View Task\n",
            "3. Remove Task\n",
            "4. Exit\n",
            "Enter your choice (1-4): 3\n",
            "/nYour to-do list:\n",
            "1. Buy groceries\n",
            "2. Walk dog\n",
            "3. Read book\n",
            "Enter the task number to remove: 2\n",
            "'Walk dog' has been removed!\n",
            "To-Do List Manager\n",
            "1. Add Task\n",
            "2. View Task\n",
            "3. Remove Task\n",
            "4. Exit\n",
            "Enter your choice (1-4): 2\n",
            "/nYour to-do list:\n",
            "1. Buy groceries\n",
            "2. Read book\n",
            "To-Do List Manager\n",
            "1. Add Task\n",
            "2. View Task\n",
            "3. Remove Task\n",
            "4. Exit\n",
            "Enter your choice (1-4): 4\n",
            "Good Bye!\n"
          ]
        }
      ]
    },
    {
      "cell_type": "code",
      "source": [
        "tasks = [\"Buy groceries\", \"Walk dog\", \"Read book\"]\n",
        "# python see     0               1           2\n",
        "# user see       1               2           3"
      ],
      "metadata": {
        "id": "e4Iqe2jsw-C4"
      },
      "execution_count": null,
      "outputs": []
    }
  ]
}